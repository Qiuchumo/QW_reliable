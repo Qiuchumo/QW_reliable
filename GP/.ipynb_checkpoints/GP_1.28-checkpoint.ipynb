{
 "cells": [
  {
   "cell_type": "markdown",
   "metadata": {},
   "source": [
    "Guassian Process\n",
    "---"
   ]
  },
  {
   "cell_type": "code",
   "execution_count": null,
   "metadata": {},
   "outputs": [],
   "source": [
    "import numpy as np\n",
    "import scipy.stats as stats\n",
    "import matplotlib.pyplot as plt\n",
    "import seaborn as sns\n",
    "import theano.tensor as tt\n",
    "from theano import shared\n",
    "import pandas as pd\n",
    "from matplotlib import gridspec\n",
    "%matplotlib inline\n",
    "import pymc3 as pm\n",
    "import scipy as sp\n",
    "from theano.compile.ops import as_op\n",
    "from numpy import arange, array, empty\n",
    "from Plot_raw import *"
   ]
  },
  {
   "cell_type": "code",
   "execution_count": null,
   "metadata": {
    "scrolled": true
   },
   "outputs": [],
   "source": [
    "np.set_printoptions(precision=0, suppress=True)\n",
    "Savefig = 0 # 控制图形显示存储\n",
    "plt.style.use('default')\n",
    "elec_data = pd.read_csv('XZnozero_12C.csv')\n",
    "\n",
    "# 计算同一公司产品测试地点数目：\n",
    "companies_num = elec_data.counts.unique()\n",
    "companies = len(companies_num)  # companies=7， 共7个测试地点\n",
    "company_lookup = dict(zip(companies_num, range(len(companies_num))))\n",
    "company = elec_data['company_code'] = elec_data.counts.replace(company_lookup).values  # 加一行数据在XZsingal文件中\n",
    "\n",
    "# 计算不同公司数目\n",
    "company_ABC = elec_data.company.unique()\n",
    "companiesABC = len(company_ABC)  # companies=7， 共7个测试地点\n",
    "company_lookup_ABC = dict(zip(company_ABC, range(len(company_ABC))))\n",
    "companyABC = elec_data['company_ABC'] = elec_data.company.replace(company_lookup_ABC).values  # 加一行数据在XZsingal文件中\n",
    "\n",
    "# 给所有特征因素加上高斯噪声\n",
    "SNR = np.random.normal(0, 1, size=[len(elec_data.Year.values), 3])\n",
    "\n",
    "# #特征因素分析\n",
    "elec_tem = elec_data.Tem.values # 观测温度值x2，温度不加噪声\n",
    "elec_tem1 = (elec_tem - np.mean(elec_tem)) / np.std(elec_tem)\n",
    "elec_hPa = elec_data.hPa.values + SNR[:, 0]  # 观测压强x3\n",
    "elec_hPa1 = (elec_hPa - np.mean(elec_hPa)) / np.std(elec_hPa)\n",
    "elec_RH = elec_data.RH.values + SNR[:, 1] # 观测压强x3\n",
    "elec_RH1 = (elec_RH - np.mean(elec_RH)) / np.std(elec_RH)\n",
    "elec_Lux = elec_data.Lux.values + SNR[:, 2] # 观测压强x3\n",
    "elec_Lux1 = (elec_Lux - np.mean(elec_Lux)) / np.std(elec_Lux)\n",
    "\n",
    "# 计算观测时间，温度，光照等环境条件\n",
    "elec_year = elec_data.Year.values  # 观测时间值x1\n",
    "elec_year1 = (elec_year - np.mean(elec_year)) / np.std(elec_year)\n",
    "data_cs_year = elec_year[:,None] #必须要这种形式才行\n",
    "# print(data_cs_year)\n",
    "\n",
    "# 计算故障率大小：故障数目/总测量数，作为模型Y值，放大100倍以增加实际效果，结果中要缩小100倍\n",
    "elec_faults = 100*(elec_data.Fault.values / elec_data.Nums.values)  # 数组形式,计算故障率大小\n",
    "# print(elec_faults)\n",
    " \n",
    "# 将故障率以6组一行形式组成数组,变成：21*6\n",
    "elec_faults2 = np.array([elec_faults[i*12:(i+1)*12] for i in np.arange(21)])\n",
    "elec_year2 = np.array([elec_year[i*12:(i+1)*12] for i in np.arange(21)])\n",
    "companyABC2 = np.array([companyABC[i*12:(i+1)*12] for i in np.arange(21)])\n",
    "# elec_faults2 = np.ma.masked_values(elec_faults2, value=1000)\n",
    "\n",
    "Plot_raw(elec_year2, elec_faults2, Savefig)\n",
    "# 共享变量设置\n",
    "\n",
    "ys_faultsA = shared(np.asarray(elec_faults[:84]))\n",
    "# ys_faultsB = shared(np.asarray(elec_faults[84:168]))\n",
    "# ys_faultsC = shared(np.asarray(elec_faults[168:]))\n",
    "\n",
    "xs_yearA = shared(np.asarray(elec_year[:84]))\n",
    "# xs_yearB = shared(np.asarray(elec_year[84:168]))\n",
    "# xs_yearC = shared(np.asarray(elec_year[168:]))\n",
    "# Num_shared = shared(np.asarray(companyABC))\n",
    "\n",
    "def logit(x):\n",
    "    return 1/(1+np.exp(-x))\n",
    "def Invlogit(x):\n",
    "    return tt.exp(x)/(1+tt.exp(x))"
   ]
  },
  {
   "cell_type": "markdown",
   "metadata": {},
   "source": [
    "用Marginal方法\n",
    "---"
   ]
  },
  {
   "cell_type": "code",
   "execution_count": null,
   "metadata": {
    "scrolled": false
   },
   "outputs": [],
   "source": [
    "# 建模\n",
    "# with pm.Model() as model:\n",
    "#     LL = pm.HalfCauchy(\"LL\", 5)\n",
    "#     alp = pm.HalfCauchy(\"alp\", 5)\n",
    "    \n",
    "#     cov = alp * pm.gp.cov.ExpQuad(1, ls=LL)\n",
    "#     gp = pm.gp.Marginal(cov_func=cov)\n",
    "    \n",
    "#     δ = pm.HalfCauchy(\"δ\", 5)\n",
    "#     y_ = gp.marginal_likelihood(\"y\", X=data_cs_year, y=elec_faults, noise=δ)\n",
    "    \n",
    "#     mp = pm.find_MAP()\n",
    "    \n",
    "with pm.Model() as model:\n",
    "    η_per = pm.HalfCauchy(\"η_per\", beta=2)\n",
    "    ℓ_pdecay = pm.Gamma(\"ℓ_pdecay\", alpha=10, beta=0.075)\n",
    "    period  = pm.Normal(\"period\", mu=2, sd=0.05) # 周期必须是2\n",
    "    ℓ_psmooth = pm.Gamma(\"ℓ_psmooth \", alpha=4, beta=3)\n",
    "    cov_seasonal = η_per * pm.gp.cov.Periodic(1, period, ℓ_psmooth) \\\n",
    "                            * pm.gp.cov.Matern52(1, ℓ_pdecay)\n",
    "    gp_seasonal = pm.gp.Marginal(cov_func=cov_seasonal)\n",
    "\n",
    "    # long term trend\n",
    "    η_trend = pm.HalfCauchy(\"η_trend\", beta=1)\n",
    "    ℓ_trend = pm.Gamma(\"ℓ_trend\", alpha=4, beta=0.1)\n",
    "    cov_trend = η_trend**2 * pm.gp.cov.ExpQuad(1, ℓ_trend)\n",
    "    gp_trend = pm.gp.Marginal(cov_func=cov_trend) \n",
    "    \n",
    "    gp = gp_seasonal + gp_trend\n",
    "\n",
    "    δ = pm.HalfCauchy(\"δ\", 5)\n",
    "    y_ = gp.marginal_likelihood(\"y\", X=data_cs_year, y=elec_faults, noise=δ)\n",
    "    \n",
    "    mp = pm.find_MAP()"
   ]
  },
  {
   "cell_type": "code",
   "execution_count": null,
   "metadata": {},
   "outputs": [],
   "source": [
    "# new values from x=0 to x=20\n",
    "X_new = np.linspace(0.5, 20, 100)[:,None]\n",
    "\n",
    "# add the GP conditional to the model, given the new X values\n",
    "with model:\n",
    "    f_pred = gp.conditional(\"f_pred\", X_new)\n",
    "\n",
    "# To use the MAP values, you can just replace the trace with a length-1 list with `mp`\n",
    "with model:\n",
    "    pred_samples = pm.sample_ppc([mp], vars=[f_pred], samples=2000)"
   ]
  },
  {
   "cell_type": "code",
   "execution_count": null,
   "metadata": {},
   "outputs": [],
   "source": [
    "X = data_cs_year\n",
    "# plot the results\n",
    "fig = plt.figure(figsize=(12,5)); ax = fig.gca()\n",
    "\n",
    "# plot the samples from the gp posterior with samples and shading\n",
    "from pymc3.gp.util import plot_gp_dist\n",
    "plot_gp_dist(ax, pred_samples[\"f_pred\"], X_new);\n",
    "\n",
    "# plot the data and the true latent function\n",
    "# plt.plot(X, f_true, \"dodgerblue\", lw=3, label=\"True f\");\n",
    "plt.plot(X, elec_faults, 'ok', ms=4, alpha=0.5, label=\"Observed data\");\n",
    "\n",
    "# axis labels and title\n",
    "plt.xlabel(\"Time(year)\");\n",
    "plt.ylabel(\"Fault rate(%)\");\n",
    "plt.title(\"Posterior distribution over $f(x)$ at the observed values\"); plt.legend()\n",
    "plt.savefig('E:\\\\Code\\\\Bayescode\\\\QW_reliable\\\\GP\\\\Picture\\\\Fitting1.png', dpi = 200, bbox_inches='tight')"
   ]
  },
  {
   "cell_type": "markdown",
   "metadata": {},
   "source": [
    "用Latent方法\n",
    "---"
   ]
  },
  {
   "cell_type": "code",
   "execution_count": null,
   "metadata": {},
   "outputs": [],
   "source": [
    "with pm.Model() as model_1:\n",
    "    ℓ = pm.Gamma(\"ℓ\", alpha=2, beta=1)\n",
    "    η = pm.HalfCauchy(\"η\", beta=5)\n",
    "\n",
    "    cov = η* pm.gp.cov.Matern52(1, ℓ)\n",
    "    gp = pm.gp.Latent(cov_func=cov)\n",
    "\n",
    "    f = gp.prior(\"f\", X=data_cs_year)\n",
    "\n",
    "    σ = pm.HalfCauchy(\"σ\", beta=5)\n",
    "    ν = pm.Gamma(\"ν\", alpha=2, beta=0.1)\n",
    "    y_ = pm.StudentT(\"y\", mu=f, lam=1.0/σ, nu=ν, observed=elec_faults)\n",
    "\n",
    "    trace = pm.sample(1000)"
   ]
  },
  {
   "cell_type": "code",
   "execution_count": null,
   "metadata": {},
   "outputs": [],
   "source": [
    "pm.traceplot(trace, varnames=[\"η\", \"σ\", \"ℓ\", \"ν\"]);\n"
   ]
  },
  {
   "cell_type": "code",
   "execution_count": null,
   "metadata": {},
   "outputs": [],
   "source": [
    "with model_1:\n",
    "    f_pred = gp.conditional(\"f_pred\", X_new)\n",
    "\n",
    "# Sample from the GP conditional distribution\n",
    "with model_1:\n",
    "    pred_samples1 = pm.sample_ppc(trace, vars=[f_pred], samples=1000)"
   ]
  },
  {
   "cell_type": "code",
   "execution_count": null,
   "metadata": {},
   "outputs": [],
   "source": [
    "# plot the results\n",
    "fig = plt.figure(figsize=(12,5)); ax = fig.gca()\n",
    "plot_gp_dist(ax, pred_samples1[\"f_pred\"], X_new);\n",
    "# plt.plot(X, f_true, \"dodgerblue\", lw=3, label=\"True f\");\n",
    "plt.plot(X, elec_faults, 'ok', ms=3, alpha=0.5, label=\"Observed data\");\n",
    "plt.xlabel(\"X\"); plt.ylabel(\"True f(x)\");\n",
    "plt.title(\"Conditional distribution of f_*, given f\"); plt.legend();\n"
   ]
  },
  {
   "cell_type": "code",
   "execution_count": null,
   "metadata": {
    "collapsed": true
   },
   "outputs": [],
   "source": []
  }
 ],
 "metadata": {
  "kernelspec": {
   "display_name": "Python 3",
   "language": "python",
   "name": "python3"
  },
  "language_info": {
   "codemirror_mode": {
    "name": "ipython",
    "version": 3
   },
   "file_extension": ".py",
   "mimetype": "text/x-python",
   "name": "python",
   "nbconvert_exporter": "python",
   "pygments_lexer": "ipython3",
   "version": "3.6.1"
  },
  "varInspector": {
   "cols": {
    "lenName": 16,
    "lenType": 16,
    "lenVar": 40
   },
   "kernels_config": {
    "python": {
     "delete_cmd_postfix": "",
     "delete_cmd_prefix": "del ",
     "library": "var_list.py",
     "varRefreshCmd": "print(var_dic_list())"
    },
    "r": {
     "delete_cmd_postfix": ") ",
     "delete_cmd_prefix": "rm(",
     "library": "var_list.r",
     "varRefreshCmd": "cat(var_dic_list()) "
    }
   },
   "types_to_exclude": [
    "module",
    "function",
    "builtin_function_or_method",
    "instance",
    "_Feature"
   ],
   "window_display": false
  }
 },
 "nbformat": 4,
 "nbformat_minor": 2
}
