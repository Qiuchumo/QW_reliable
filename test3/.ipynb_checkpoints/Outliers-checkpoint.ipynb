{
 "cells": [
  {
   "cell_type": "code",
   "execution_count": 5,
   "metadata": {},
   "outputs": [],
   "source": [
    "import agate\n",
    "import agatestats\n",
    "import pandas as pd\n",
    "import numpy as np\n",
    "\n",
    "table = agate.Table.from_csv('XZAB.csv')"
   ]
  },
  {
   "cell_type": "code",
   "execution_count": 25,
   "metadata": {},
   "outputs": [
    {
     "name": "stdout",
     "output_type": "stream",
     "text": [
      "| column  | data_type |\n",
      "| ------- | --------- |\n",
      "| counts  | Number    |\n",
      "| company | Text      |\n",
      "| Nums    | Number    |\n",
      "| Fault   | Number    |\n",
      "| Year    | Number    |\n",
      "| Tem     | Number    |\n",
      "| hPa     | Number    |\n",
      "| Lux     | Number    |\n",
      "| RH      | Number    |\n",
      "\n",
      "3\n",
      "| column  | data_type |\n",
      "| ------- | --------- |\n",
      "| counts  | Number    |\n",
      "| company | Text      |\n",
      "| Nums    | Number    |\n",
      "| Fault   | Number    |\n",
      "| Year    | Number    |\n",
      "| Tem     | Number    |\n",
      "| hPa     | Number    |\n",
      "| Lux     | Number    |\n",
      "| RH      | Number    |\n",
      "\n",
      "7\n"
     ]
    }
   ],
   "source": [
    "import agatestats\n",
    "\n",
    "# agatestats.patch()\n",
    "\n",
    "outliers = table.stdev_outliers('Fault', deviations=3, reject=True)\n",
    "print(outliers)\n",
    "print(len(outliers.rows))\n",
    "outliers1 = table.mad_outliers('Fault', deviations=3, reject=False)\n",
    "print(outliers1)\n",
    "print(len(outliers1.rows))\n",
    "outliers.to_csv('newfilesoutline.csv')"
   ]
  },
  {
   "cell_type": "code",
   "execution_count": 7,
   "metadata": {},
   "outputs": [
    {
     "name": "stdout",
     "output_type": "stream",
     "text": [
      "| column | data_type |\n",
      "| ------ | --------- |\n",
      "| letter | Text      |\n",
      "| number | Number    |\n",
      "\n"
     ]
    }
   ],
   "source": [
    "column_names = ['letter', 'number']\n",
    "column_types = [agate.Text(), agate.Number()]\n",
    "\n",
    "rows = [\n",
    "    ('a', 1),\n",
    "    ('b', 2),\n",
    "    ('c', None)\n",
    "]\n",
    "\n",
    "table1 = agate.Table(rows, column_names, column_types)\n",
    "print(table1)"
   ]
  },
  {
   "cell_type": "code",
   "execution_count": 8,
   "metadata": {
    "collapsed": true
   },
   "outputs": [
    {
     "name": "stdout",
     "output_type": "stream",
     "text": [
      "| column  | data_type |\n",
      "| ------- | --------- |\n",
      "| counts  | Number    |\n",
      "| company | Text      |\n",
      "| Nums    | Number    |\n",
      "| Fault   | Number    |\n",
      "| Year    | Number    |\n",
      "| Tem     | Number    |\n",
      "| hPa     | Number    |\n",
      "| Lux     | Number    |\n",
      "| RH      | Number    |\n",
      "\n"
     ]
    }
   ],
   "source": [
    "new_table = table.order_by('Year')\n",
    "print(new_table)"
   ]
  },
  {
   "cell_type": "code",
   "execution_count": 10,
   "metadata": {
    "collapsed": true
   },
   "outputs": [
    {
     "name": "stdout",
     "output_type": "stream",
     "text": [
      "<agate.Row: (Decimal('1'), 'A', Decimal('9828'), Decimal('1'), Decimal('1'), ...)>\n",
      "<agate.Row: (Decimal('2'), 'A', Decimal('478'), Decimal('1'), Decimal('1'), ...)>\n",
      "<agate.Row: (Decimal('3'), 'A', Decimal('16588'), Decimal('1'), Decimal('1'), ...)>\n",
      "<agate.Row: (Decimal('4'), 'A', Decimal('6557'), Decimal('10'), Decimal('1'), ...)>\n",
      "<agate.Row: (Decimal('5'), 'A', Decimal('2516'), Decimal('1'), Decimal('1'), ...)>\n",
      "<agate.Row: (Decimal('6'), 'A', Decimal('1119'), Decimal('1'), Decimal('1'), ...)>\n",
      "<agate.Row: (Decimal('7'), 'A', Decimal('2754'), Decimal('1'), Decimal('1'), ...)>\n",
      "<agate.Row: (Decimal('1'), 'B', Decimal('354052'), Decimal('12'), Decimal('1'), ...)>\n",
      "<agate.Row: (Decimal('2'), 'B', Decimal('77193'), Decimal('1'), Decimal('1'), ...)>\n",
      "<agate.Row: (Decimal('3'), 'B', Decimal('31963'), Decimal('1'), Decimal('1'), ...)>\n",
      "<agate.Row: (Decimal('4'), 'B', Decimal('11418'), Decimal('2'), Decimal('1'), ...)>\n",
      "<agate.Row: (Decimal('5'), 'B', Decimal('12966'), Decimal('1'), Decimal('1'), ...)>\n",
      "<agate.Row: (Decimal('6'), 'B', Decimal('6533'), Decimal('2'), Decimal('1'), ...)>\n",
      "<agate.Row: (Decimal('7'), 'B', Decimal('33093'), Decimal('1'), Decimal('1'), ...)>\n",
      "<agate.Row: (Decimal('1'), 'A', Decimal('9828'), Decimal('1'), Decimal('2'), ...)>\n",
      "<agate.Row: (Decimal('2'), 'A', Decimal('478'), Decimal('1'), Decimal('2'), ...)>\n",
      "<agate.Row: (Decimal('3'), 'A', Decimal('16588'), Decimal('1'), Decimal('2'), ...)>\n",
      "<agate.Row: (Decimal('4'), 'A', Decimal('6557'), Decimal('25'), Decimal('2'), ...)>\n",
      "<agate.Row: (Decimal('5'), 'A', Decimal('2516'), Decimal('2'), Decimal('2'), ...)>\n",
      "<agate.Row: (Decimal('6'), 'A', Decimal('1119'), Decimal('1'), Decimal('2'), ...)>\n",
      "<agate.Row: (Decimal('7'), 'A', Decimal('2754'), Decimal('3'), Decimal('2'), ...)>\n",
      "<agate.Row: (Decimal('1'), 'B', Decimal('354052'), Decimal('225'), Decimal('2'), ...)>\n",
      "<agate.Row: (Decimal('2'), 'B', Decimal('77193'), Decimal('8'), Decimal('2'), ...)>\n",
      "<agate.Row: (Decimal('3'), 'B', Decimal('31963'), Decimal('8'), Decimal('2'), ...)>\n",
      "<agate.Row: (Decimal('4'), 'B', Decimal('11418'), Decimal('10'), Decimal('2'), ...)>\n",
      "<agate.Row: (Decimal('5'), 'B', Decimal('12966'), Decimal('5'), Decimal('2'), ...)>\n",
      "<agate.Row: (Decimal('6'), 'B', Decimal('6533'), Decimal('3'), Decimal('2'), ...)>\n",
      "<agate.Row: (Decimal('7'), 'B', Decimal('33093'), Decimal('1'), Decimal('2'), ...)>\n",
      "<agate.Row: (Decimal('1'), 'A', Decimal('9828'), Decimal('2'), Decimal('3'), ...)>\n",
      "<agate.Row: (Decimal('2'), 'A', Decimal('478'), Decimal('1'), Decimal('3'), ...)>\n",
      "<agate.Row: (Decimal('3'), 'A', Decimal('16588'), Decimal('2'), Decimal('3'), ...)>\n",
      "<agate.Row: (Decimal('4'), 'A', Decimal('6557'), Decimal('1'), Decimal('3'), ...)>\n",
      "<agate.Row: (Decimal('5'), 'A', Decimal('2516'), Decimal('12'), Decimal('3'), ...)>\n",
      "<agate.Row: (Decimal('6'), 'A', Decimal('1119'), Decimal('2'), Decimal('3'), ...)>\n",
      "<agate.Row: (Decimal('7'), 'A', Decimal('2754'), Decimal('1'), Decimal('3'), ...)>\n",
      "<agate.Row: (Decimal('1'), 'B', Decimal('354052'), Decimal('230'), Decimal('3'), ...)>\n",
      "<agate.Row: (Decimal('2'), 'B', Decimal('77193'), Decimal('37'), Decimal('3'), ...)>\n",
      "<agate.Row: (Decimal('3'), 'B', Decimal('31963'), Decimal('36'), Decimal('3'), ...)>\n",
      "<agate.Row: (Decimal('4'), 'B', Decimal('11418'), Decimal('64'), Decimal('3'), ...)>\n",
      "<agate.Row: (Decimal('5'), 'B', Decimal('12966'), Decimal('12'), Decimal('3'), ...)>\n",
      "<agate.Row: (Decimal('6'), 'B', Decimal('6533'), Decimal('62'), Decimal('3'), ...)>\n",
      "<agate.Row: (Decimal('7'), 'B', Decimal('33093'), Decimal('3'), Decimal('3'), ...)>\n",
      "<agate.Row: (Decimal('1'), 'A', Decimal('9828'), Decimal('46'), Decimal('4'), ...)>\n",
      "<agate.Row: (Decimal('2'), 'A', Decimal('478'), Decimal('1'), Decimal('4'), ...)>\n",
      "<agate.Row: (Decimal('3'), 'A', Decimal('16588'), Decimal('86'), Decimal('4'), ...)>\n",
      "<agate.Row: (Decimal('4'), 'A', Decimal('6557'), Decimal('23'), Decimal('4'), ...)>\n",
      "<agate.Row: (Decimal('5'), 'A', Decimal('2516'), Decimal('30'), Decimal('4'), ...)>\n",
      "<agate.Row: (Decimal('6'), 'A', Decimal('1119'), Decimal('3'), Decimal('4'), ...)>\n",
      "<agate.Row: (Decimal('7'), 'A', Decimal('2754'), Decimal('94'), Decimal('4'), ...)>\n",
      "<agate.Row: (Decimal('1'), 'B', Decimal('354052'), Decimal('407'), Decimal('4'), ...)>\n",
      "<agate.Row: (Decimal('2'), 'B', Decimal('77193'), Decimal('47'), Decimal('4'), ...)>\n",
      "<agate.Row: (Decimal('3'), 'B', Decimal('31963'), Decimal('13'), Decimal('4'), ...)>\n",
      "<agate.Row: (Decimal('4'), 'B', Decimal('11418'), Decimal('48'), Decimal('4'), ...)>\n",
      "<agate.Row: (Decimal('5'), 'B', Decimal('12966'), Decimal('14'), Decimal('4'), ...)>\n",
      "<agate.Row: (Decimal('6'), 'B', Decimal('6533'), Decimal('8'), Decimal('4'), ...)>\n",
      "<agate.Row: (Decimal('7'), 'B', Decimal('33093'), Decimal('45'), Decimal('4'), ...)>\n",
      "<agate.Row: (Decimal('1'), 'A', Decimal('9828'), Decimal('169'), Decimal('5'), ...)>\n",
      "<agate.Row: (Decimal('2'), 'A', Decimal('478'), Decimal('12'), Decimal('5'), ...)>\n",
      "<agate.Row: (Decimal('3'), 'A', Decimal('16588'), Decimal('19'), Decimal('5'), ...)>\n",
      "<agate.Row: (Decimal('4'), 'A', Decimal('6557'), Decimal('27'), Decimal('5'), ...)>\n",
      "<agate.Row: (Decimal('5'), 'A', Decimal('2516'), Decimal('21'), Decimal('5'), ...)>\n",
      "<agate.Row: (Decimal('6'), 'A', Decimal('1119'), Decimal('37'), Decimal('5'), ...)>\n",
      "<agate.Row: (Decimal('7'), 'A', Decimal('2754'), Decimal('106'), Decimal('5'), ...)>\n",
      "<agate.Row: (Decimal('1'), 'B', Decimal('354052'), Decimal('479'), Decimal('5'), ...)>\n",
      "<agate.Row: (Decimal('2'), 'B', Decimal('77193'), Decimal('35'), Decimal('5'), ...)>\n",
      "<agate.Row: (Decimal('3'), 'B', Decimal('31963'), Decimal('16'), Decimal('5'), ...)>\n",
      "<agate.Row: (Decimal('4'), 'B', Decimal('11418'), Decimal('54'), Decimal('5'), ...)>\n",
      "<agate.Row: (Decimal('5'), 'B', Decimal('12966'), Decimal('13'), Decimal('5'), ...)>\n",
      "<agate.Row: (Decimal('6'), 'B', Decimal('6533'), Decimal('62'), Decimal('5'), ...)>\n",
      "<agate.Row: (Decimal('7'), 'B', Decimal('33093'), Decimal('23'), Decimal('5'), ...)>\n",
      "<agate.Row: (Decimal('1'), 'A', Decimal('9828'), Decimal('58'), Decimal('6'), ...)>\n",
      "<agate.Row: (Decimal('2'), 'A', Decimal('478'), Decimal('10'), Decimal('6'), ...)>\n",
      "<agate.Row: (Decimal('3'), 'A', Decimal('16588'), Decimal('5'), Decimal('6'), ...)>\n",
      "<agate.Row: (Decimal('4'), 'A', Decimal('6557'), Decimal('15'), Decimal('6'), ...)>\n",
      "<agate.Row: (Decimal('5'), 'A', Decimal('2516'), Decimal('2'), Decimal('6'), ...)>\n",
      "<agate.Row: (Decimal('6'), 'A', Decimal('1119'), Decimal('38'), Decimal('6'), ...)>\n",
      "<agate.Row: (Decimal('7'), 'A', Decimal('2754'), Decimal('80'), Decimal('6'), ...)>\n",
      "<agate.Row: (Decimal('1'), 'B', Decimal('354052'), Decimal('582'), Decimal('6'), ...)>\n",
      "<agate.Row: (Decimal('2'), 'B', Decimal('77193'), Decimal('106'), Decimal('6'), ...)>\n",
      "<agate.Row: (Decimal('3'), 'B', Decimal('31963'), Decimal('85'), Decimal('6'), ...)>\n",
      "<agate.Row: (Decimal('4'), 'B', Decimal('11418'), Decimal('43'), Decimal('6'), ...)>\n",
      "<agate.Row: (Decimal('5'), 'B', Decimal('12966'), Decimal('44'), Decimal('6'), ...)>\n",
      "<agate.Row: (Decimal('6'), 'B', Decimal('6533'), Decimal('48'), Decimal('6'), ...)>\n",
      "<agate.Row: (Decimal('7'), 'B', Decimal('33093'), Decimal('32'), Decimal('6'), ...)>\n"
     ]
    }
   ],
   "source": [
    "for r in new_table.rows:\n",
    "    print(r)"
   ]
  },
  {
   "cell_type": "code",
   "execution_count": 18,
   "metadata": {},
   "outputs": [
    {
     "name": "stdout",
     "output_type": "stream",
     "text": [
      "84\n",
      "9\n"
     ]
    }
   ],
   "source": [
    "print(len(table.rows))\n",
    "outliers = table.stdev_outliers('Fault', deviations=1, reject=True)\n",
    "print(len(outliers.rows))\n",
    "# for r in outliers.rows:\n",
    "#     print(r)"
   ]
  },
  {
   "cell_type": "code",
   "execution_count": 64,
   "metadata": {
    "collapsed": true
   },
   "outputs": [],
   "source": [
    "outliers.to_csv('outliers.csv')"
   ]
  },
  {
   "cell_type": "code",
   "execution_count": 67,
   "metadata": {},
   "outputs": [
    {
     "name": "stdout",
     "output_type": "stream",
     "text": [
      "84\n",
      "16\n"
     ]
    }
   ],
   "source": [
    "print(len(table.rows))\n",
    "outliers1 = table.mad_outliers('Fault', deviations=90, reject=True)\n",
    "print(len(outliers1.rows))\n",
    "outliers1.to_csv('outliers1.csv')"
   ]
  },
  {
   "cell_type": "code",
   "execution_count": 68,
   "metadata": {},
   "outputs": [
    {
     "name": "stdout",
     "output_type": "stream",
     "text": [
      "96.7188832405\n"
     ]
    }
   ],
   "source": [
    "elec_data = pd.read_csv('XZAB.csv')\n",
    "elec_fault = elec_data.Fault.values\n",
    "aa = np.std(elec_fault)\n",
    "print(aa)"
   ]
  },
  {
   "cell_type": "code",
   "execution_count": 74,
   "metadata": {},
   "outputs": [
    {
     "name": "stdout",
     "output_type": "stream",
     "text": [
      "[-1.41421356 -0.70710678  0.          0.70710678  1.41421356]\n",
      "[-1.41421356 -0.70710678  0.          0.70710678  1.41421356]\n"
     ]
    }
   ],
   "source": [
    "# Z得分统计方法\n",
    "from scipy import stats\n",
    "a = np.array([ 1,  2,  3,  4,  5])\n",
    "print(stats.zscore(a))\n",
    "bb = (a - np.mean(a)) / np.std(a)\n",
    "print(bb)"
   ]
  },
  {
   "cell_type": "code",
   "execution_count": 71,
   "metadata": {},
   "outputs": [
    {
     "name": "stdout",
     "output_type": "stream",
     "text": [
      "[-0.46735838 -0.46735838 -0.45701914 -0.00209247  1.26963438  0.12197845\n",
      " -0.46735838 -0.46735838 -0.46735838 -0.46735838]\n"
     ]
    }
   ],
   "source": [
    "print(stats.zscore(elec_fault)[:10])"
   ]
  },
  {
   "cell_type": "code",
   "execution_count": 72,
   "metadata": {},
   "outputs": [
    {
     "name": "stdout",
     "output_type": "stream",
     "text": [
      "[-0.46735838 -0.46735838 -0.45701914 -0.00209247  1.26963438  0.12197845\n",
      " -0.46735838 -0.46735838 -0.46735838 -0.46735838]\n"
     ]
    }
   ],
   "source": [
    "elec_faults = (elec_data.Fault.values)  # 数组形式\n",
    "elec_faults1 = (elec_faults - np.mean(elec_faults)) / np.std(elec_faults)\n",
    "print(elec_faults1[:10])"
   ]
  },
  {
   "cell_type": "code",
   "execution_count": null,
   "metadata": {
    "collapsed": true
   },
   "outputs": [],
   "source": []
  }
 ],
 "metadata": {
  "kernelspec": {
   "display_name": "Python 3",
   "language": "python",
   "name": "python3"
  },
  "language_info": {
   "codemirror_mode": {
    "name": "ipython",
    "version": 3
   },
   "file_extension": ".py",
   "mimetype": "text/x-python",
   "name": "python",
   "nbconvert_exporter": "python",
   "pygments_lexer": "ipython3",
   "version": "3.6.1"
  }
 },
 "nbformat": 4,
 "nbformat_minor": 1
}
