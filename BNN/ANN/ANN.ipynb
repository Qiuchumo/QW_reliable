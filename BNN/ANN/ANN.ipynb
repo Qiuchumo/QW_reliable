{
 "cells": [
  {
   "cell_type": "markdown",
   "metadata": {},
   "source": [
    "ANN神经网络对比分析，3.27\n",
    "---"
   ]
  },
  {
   "cell_type": "code",
   "execution_count": 1,
   "metadata": {},
   "outputs": [
    {
     "name": "stderr",
     "output_type": "stream",
     "text": [
      "D:\\Softwares\\Python\\Python_Anaconda\\lib\\site-packages\\h5py\\__init__.py:36: FutureWarning: Conversion of the second argument of issubdtype from `float` to `np.floating` is deprecated. In future, it will be treated as `np.float64 == np.dtype(float).type`.\n",
      "  from ._conv import register_converters as _register_converters\n"
     ]
    }
   ],
   "source": [
    "import pymc3 as pm\n",
    "import numpy as np\n",
    "import scipy.stats as stats\n",
    "import matplotlib.pyplot as plt\n",
    "import seaborn as sns\n",
    "import theano.tensor as tt\n",
    "import theano\n",
    "from theano import shared\n",
    "floatX = theano.config.floatX\n",
    "import pandas as pd\n",
    "from matplotlib import gridspec\n",
    "from sklearn.decomposition import PCA, KernelPCA\n",
    "from sklearn.preprocessing import scale\n",
    "\n",
    "\n",
    "import scipy as sp\n",
    "from theano.compile.ops import as_op\n",
    "from numpy import arange, array, empty\n",
    "from Plot_raw import *\n",
    "from DataSplit import *\n",
    "from DataSplitOne import *\n",
    "%matplotlib inline"
   ]
  },
  {
   "cell_type": "code",
   "execution_count": 2,
   "metadata": {},
   "outputs": [
    {
     "name": "stdout",
     "output_type": "stream",
     "text": [
      "\n",
      "\n",
      "[2]\n",
      "[-1. -1. -1. -1. -1. -1. -0. -0. -1. -1. -1. -1.]\n",
      "(84, 3)\n",
      "3\n",
      "84\n"
     ]
    }
   ],
   "source": [
    "np.set_printoptions(precision=0, suppress=True)\n",
    "Savefig = 0 # 控制图形显示存储\n",
    "plt.style.use('default')\n",
    "elec_data = pd.read_csv('XZnozero_12A.csv')\n",
    "\n",
    "# 计算同一公司产品测试地点数目：\n",
    "companies_num = elec_data.counts.unique()\n",
    "companies = len(companies_num)  # companies=7， 共7个测试地点\n",
    "company_lookup = dict(zip(companies_num, range(len(companies_num))))\n",
    "company = elec_data['company_code'] = elec_data.counts.replace(company_lookup).values  # 加一行数据在XZsingal文件中\n",
    "\n",
    "# 计算不同公司数目\n",
    "company_ABC = elec_data.company.unique()\n",
    "companiesABC = len(company_ABC)  # companies=7， 共7个测试地点\n",
    "company_lookup_ABC = dict(zip(company_ABC, range(len(company_ABC))))\n",
    "companyABC = elec_data['company_ABC'] = elec_data.company.replace(company_lookup_ABC).values  # 加一行数据在XZsingal文件中\n",
    "# elec_count = elec_data.counts.values\n",
    "# print(companyABC)\n",
    "# print(companiesABC)\n",
    "# 给所有特征因素加上高斯噪声\n",
    "SNR = np.random.normal(0, 1, size=[len(elec_data.Year.values), 3])\n",
    "\n",
    "# #特征因素分析\n",
    "elec_tem = elec_data.Tem.values # 观测温度值x2，温度不加噪声\n",
    "elec_tem1 = (elec_tem - np.mean(elec_tem)) / np.std(elec_tem)\n",
    "elec_hPa = elec_data.hPa.values + SNR[:, 0]  # 观测压强x3\n",
    "elec_hPa1 = (elec_hPa - np.mean(elec_hPa)) / np.std(elec_hPa)\n",
    "elec_RH = elec_data.RH.values + SNR[:, 1] # 观测压强x3\n",
    "elec_RH1 = (elec_RH - np.mean(elec_RH)) / np.std(elec_RH)\n",
    "elec_Lux = elec_data.Lux.values + SNR[:, 2] # 观测压强x3\n",
    "elec_Lux1 = (elec_Lux - np.mean(elec_Lux)) / np.std(elec_Lux)\n",
    "\n",
    "# 计算观测时间，温度，光照等环境条件\n",
    "elec_year = elec_data.Year.values  # 观测时间值x1\n",
    "elec_year1 = (elec_year - np.mean(elec_year)) / np.std(elec_year)\n",
    "# data_cs_year = np.ma.masked_values(elec_year, value=-999)\n",
    "# print(data_cs_year)\n",
    "\n",
    "elec_Pca = np.vstack((elec_tem1, elec_hPa1, elec_RH1, elec_Lux1)).T   # 特征数据合并为一个数组\n",
    "# np.savetxt('XZ_nomean.csv', elec_Pca2, delimiter = ',')\n",
    "# =============================================================================================\n",
    "# # PCA特征降维，减少相关性，有两种方法，一种是自带函数，一种是网上程序，下面注释为网上程序\n",
    "# x, z= pcaa(elec_Pca);  XX = np.array(x); ZZ = np.array(z)\n",
    "# 将温度等4个特征降维变成2个特征，贡献率为99%以上，满足信息要求; 转换后的特征经过模型后能否还原\n",
    "# =============================================================================================\n",
    "# #白化，使得每个特征具有相同的方差，减少数据相关性，n_components：控制特征量个数\n",
    "pca = PCA(n_components=2)\n",
    "pca.fit(elec_Pca)\n",
    "# 将数据X转换成降维后的数据。当模型训练好后，对于新输入的数据，都可以用transform方法来降维。\n",
    "elec_Pca1 = pca.transform(elec_Pca)\n",
    "elec_Pca1 = np.array(elec_Pca1)\n",
    "\n",
    "elec_Pca_char1 = elec_Pca1[:, 0] # 降维特征1\n",
    "elec_Pca_char2 = elec_Pca1[:, 1] # 降维特征2\n",
    "print('\\n')\n",
    "\n",
    "# 计算故障率大小：故障数目/总测量数，作为模型Y值，放大100倍以增加实际效果，结果中要缩小100倍\n",
    "elec_faults = 100*(elec_data.Fault.values / elec_data.Nums.values)  # 数组形式,计算故障率大小\n",
    "elec_faults_Max = np.max(elec_faults)\n",
    "elec_faults = elec_faults/elec_faults_Max #最大值限定到[0,1]之间\n",
    "# 将故障率以6组一行形式组成数组,变成：21*6\n",
    "elec_faults2 = np.array([elec_faults[i*12:(i+1)*12] for i in np.arange(21)])\n",
    "elec_year2 = np.array([elec_year[i*12:(i+1)*12] for i in np.arange(21)])\n",
    "elec_char1 = np.array([elec_Pca_char1[i*12:(i+1)*12] for i in np.arange(21)])\n",
    "elec_char2 = np.array([elec_Pca_char2[i*12:(i+1)*12] for i in np.arange(21)])\n",
    "companyABC2 = np.array([companyABC[i*12:(i+1)*12] for i in np.arange(21)])\n",
    "\n",
    "# Plot_raw(elec_year2, elec_faults2, Savefig)\n",
    "\n",
    "X = scale(np.vstack((elec_year, elec_tem, elec_RH)).T)\n",
    "X = X.astype(floatX)\n",
    "Y = scale(elec_faults) #需要对Y进行均值化\n",
    "Y = Y.astype(floatX)\n",
    "\n",
    "X_train, X_test, Y_train, Y_test = DataSplitOne(X, Y, test_size=.1)\n",
    "\n",
    "\n",
    "# print(X_train)\n",
    "\n",
    "ann_output = shared(np.asarray(Y_train))\n",
    "ann_input = shared(np.asarray(X_train))\n",
    "Num_shared = shared(np.asarray(companyABC))\n",
    "print(Y_test)\n",
    "# print(X)\n",
    "# print(Num_shared)\n",
    "print(np.shape(X))\n",
    "print(X.shape[1])\n",
    "print(X.shape[0])"
   ]
  },
  {
   "cell_type": "code",
   "execution_count": null,
   "metadata": {
    "collapsed": true
   },
   "outputs": [],
   "source": []
  }
 ],
 "metadata": {
  "kernelspec": {
   "display_name": "Python 3",
   "language": "python",
   "name": "python3"
  },
  "language_info": {
   "codemirror_mode": {
    "name": "ipython",
    "version": 3
   },
   "file_extension": ".py",
   "mimetype": "text/x-python",
   "name": "python",
   "nbconvert_exporter": "python",
   "pygments_lexer": "ipython3",
   "version": "3.6.1"
  },
  "varInspector": {
   "cols": {
    "lenName": 16,
    "lenType": 16,
    "lenVar": 40
   },
   "kernels_config": {
    "python": {
     "delete_cmd_postfix": "",
     "delete_cmd_prefix": "del ",
     "library": "var_list.py",
     "varRefreshCmd": "print(var_dic_list())"
    },
    "r": {
     "delete_cmd_postfix": ") ",
     "delete_cmd_prefix": "rm(",
     "library": "var_list.r",
     "varRefreshCmd": "cat(var_dic_list()) "
    }
   },
   "types_to_exclude": [
    "module",
    "function",
    "builtin_function_or_method",
    "instance",
    "_Feature"
   ],
   "window_display": false
  }
 },
 "nbformat": 4,
 "nbformat_minor": 2
}
